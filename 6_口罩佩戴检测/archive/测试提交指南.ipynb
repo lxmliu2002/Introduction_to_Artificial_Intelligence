{
 "cells": [
  {
   "cell_type": "markdown",
   "metadata": {},
   "source": [
    "# 平台测试与提交"
   ]
  },
  {
   "cell_type": "markdown",
   "metadata": {
    "toc-hr-collapsed": false
   },
   "source": [
    "\n",
    "## 1 测试\n",
    "\n",
    "当你在 `main.ipynb` 中完成了模型，并补全了需要提交的函数，你需要先对模型与函数进行测试，测试通过才能提交\n",
    "\n",
    "\n"
   ]
  },
  {
   "cell_type": "markdown",
   "metadata": {},
   "source": [
    "### 1.1 预览与生成测试文件\n",
    "\n",
    "**生成测试文件**\n",
    "<div class='insertContainerBox column'>\n",
    "<div class='insertItem' align=left><img src=\"https://imgbed.momodel.cn/20210128221605.png\" width=\"80%\"/></div>\n",
    "</div>\n"
   ]
  },
  {
   "cell_type": "markdown",
   "metadata": {},
   "source": [
    "\n",
    "**预览**\n",
    "<div class='insertContainerBox column'>\n",
    "<div class='insertItem' align=left><img src=\"https://imgbed.momodel.cn/20210128222959.png\" width=\"80%\"/></div>\n",
    "</div>\n",
    "\n"
   ]
  },
  {
   "cell_type": "markdown",
   "metadata": {},
   "source": [
    "### 1.2 进行测试\n",
    "\n",
    "**选择文件，进行测试**\n",
    "<div class='insertContainerBox column'>\n",
    "<div class='insertItem' align=left><img src=\"https://imgbed.momodel.cn/20210128223441.png\" width=\"80%\"/></div>\n",
    "</div>\n",
    "\n"
   ]
  },
  {
   "cell_type": "markdown",
   "metadata": {},
   "source": [
    "**查看结果**\n",
    "<div class='insertContainerBox column'>\n",
    "<div class='insertItem' align=left><img src=\"https://imgbed.momodel.cn/20210128224912.png\" width=\"80%\"/></div>\n",
    "</div>"
   ]
  },
  {
   "cell_type": "markdown",
   "metadata": {},
   "source": [
    "## 2 提交\n",
    "<div class='insertContainerBox column'>\n",
    "<div class='insertItem' align=left><img src=\"https://imgbed.momodel.cn/20210128225340.png\" width=\"80%\"/></div>\n",
    "</div>"
   ]
  },
  {
   "cell_type": "markdown",
   "metadata": {},
   "source": [
    "<br>   \n",
    "**注意:** 部分题目测试提交用到不止一个函数，不要修改需要测试提交函数的输入输出及其数据类型"
   ]
  }
 ],
 "metadata": {
  "kernelspec": {
   "display_name": "Python 3",
   "language": "python",
   "name": "python3"
  },
  "language_info": {
   "codemirror_mode": {
    "name": "ipython",
    "version": 3
   },
   "file_extension": ".py",
   "mimetype": "text/x-python",
   "name": "python",
   "nbconvert_exporter": "python",
   "pygments_lexer": "ipython3",
   "version": "3.7.5"
  }
 },
 "nbformat": 4,
 "nbformat_minor": 4
}
